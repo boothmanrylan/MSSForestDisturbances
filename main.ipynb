{
  "nbformat": 4,
  "nbformat_minor": 0,
  "metadata": {
    "colab": {
      "name": "main.ipynb",
      "private_outputs": true,
      "provenance": [],
      "toc_visible": true,
      "authorship_tag": "ABX9TyP8qmh1JbObSSINhB2I1mhr",
      "include_colab_link": true
    },
    "kernelspec": {
      "name": "python3",
      "display_name": "Python 3"
    },
    "language_info": {
      "name": "python"
    }
  },
  "cells": [
    {
      "cell_type": "markdown",
      "metadata": {
        "id": "view-in-github",
        "colab_type": "text"
      },
      "source": [
        "<a href=\"https://colab.research.google.com/github/boothmanrylan/MSSForestDisturbances/blob/main/main.ipynb\" target=\"_parent\"><img src=\"https://colab.research.google.com/assets/colab-badge.svg\" alt=\"Open In Colab\"/></a>"
      ]
    },
    {
      "cell_type": "markdown",
      "source": [
        "# imports and installs"
      ],
      "metadata": {
        "id": "ObnWdaD6SfZH"
      }
    },
    {
      "cell_type": "code",
      "source": [
        "# standard python imports\n",
        "import os"
      ],
      "metadata": {
        "id": "XmPjiqJ2UEWw"
      },
      "execution_count": null,
      "outputs": []
    },
    {
      "cell_type": "code",
      "source": [
        "# earth engine api import and authentication\n",
        "import ee\n",
        "ee.Authenticate()\n",
        "ee.Initialize()"
      ],
      "metadata": {
        "id": "tvcCkuuzTt3E"
      },
      "execution_count": null,
      "outputs": []
    },
    {
      "cell_type": "code",
      "source": [
        "# pip installable modules\n",
        "\n",
        "try:\n",
        "    import geemap.foliumap as geemap\n",
        "except:\n",
        "    !pip install geemap\n",
        "    import geemap.foliumap as geemap"
      ],
      "metadata": {
        "id": "nRF0RLJ0VXQP"
      },
      "execution_count": null,
      "outputs": []
    },
    {
      "cell_type": "code",
      "source": [
        "# autoreload all python modules before executing code block\n",
        "%load_ext autoreload\n",
        "%autoreload 2"
      ],
      "metadata": {
        "id": "pqjr-7Umk9VA"
      },
      "execution_count": null,
      "outputs": []
    },
    {
      "cell_type": "code",
      "source": [
        "# install and import my packages from github\n",
        "from google.colab import drive, auth\n",
        "\n",
        "drive.mount('/content/drive/')\n",
        "%cd /content/drive/My\\ Drive/colaboratory\n",
        "\n",
        "# auth.authenticate_user()\n",
        "\n",
        "# install msslib\n",
        "! if [ ! -d ./msslib ]; then git clone https://github.com/boothmanrylan/msslib.git; fi\n",
        "%cd msslib\n",
        "! git pull\n",
        "try:\n",
        "    from msslib import msslib\n",
        "except:\n",
        "    ! pip install .\n",
        "    from msslib import msslib\n",
        "%cd ../\n",
        "\n",
        "# install sequencer\n",
        "! if [ ! -d ./sequencer ]; then git clone https://github.com/boothmanrylan/sequencer.git; fi\n",
        "%cd sequencer\n",
        "! git pull\n",
        "try:\n",
        "    import sequencer\n",
        "except:\n",
        "    ! pip install .\n",
        "    import sequencer\n",
        "%cd ../\n",
        "\n",
        "# install MSSForestDisturbances\n",
        "! if [ ! -d ./MSSForestDisturbances ]; then git clone https://github.com/boothmanrylan/MSSForestDisturbances.git; fi\n",
        "%cd MSSForestDisturbances\n",
        "! git pull\n",
        "try:\n",
        "    import mfd\n",
        "except:\n",
        "    ! pip install .\n",
        "    import mfd\n",
        "%cd ../"
      ],
      "metadata": {
        "id": "a3FhNTyLSfGc"
      },
      "execution_count": null,
      "outputs": []
    },
    {
      "cell_type": "markdown",
      "source": [
        "# Reload\n",
        "\n",
        "Run these blocks if the modules have been updated since the runtime was started"
      ],
      "metadata": {
        "id": "nAqaOqSvUYlb"
      }
    },
    {
      "cell_type": "code",
      "source": [
        "# reload msslib\n",
        "%cd ./msslib\n",
        "! git pull\n",
        "%cd ../"
      ],
      "metadata": {
        "id": "T5aJV29gUnDI"
      },
      "execution_count": null,
      "outputs": []
    },
    {
      "cell_type": "code",
      "source": [
        "# reload sequencer\n",
        "%cd ./sequencer/\n",
        "! git pull\n",
        "%cd ../"
      ],
      "metadata": {
        "id": "XZMmLlPVUvt9"
      },
      "execution_count": null,
      "outputs": []
    },
    {
      "cell_type": "code",
      "source": [
        "# reload MSSForestDisturbances\n",
        "%cd ./MSSForestDisturbances/\n",
        "! git pull\n",
        "%cd ../"
      ],
      "metadata": {
        "id": "STWBLr9pU18w"
      },
      "execution_count": null,
      "outputs": []
    },
    {
      "cell_type": "markdown",
      "source": [
        "# Test"
      ],
      "metadata": {
        "id": "Pu4SUHMCy7F0"
      }
    },
    {
      "cell_type": "code",
      "source": [
        "def get_valid_burns(events):\n",
        "    years = events.distinct(\"year\").aggregate_array(\"year\")\n",
        "\n",
        "    def _valid(year):\n",
        "        curr_events = events.filter(ee.Filter.eq(\"year\", year))\n",
        "        exclusively_burnt = curr_events.reduce(ee.Reducer.allNonZero())\n",
        "        burnt_often = curr_events.reduce(ee.Reducer.sum()).gt(1)\n",
        "        return exclusively_burnt.Or(burnt_often).selfMask()\n",
        "\n",
        "    result = ee.ImageCollection.fromImages(years.map(_valid))\n",
        "    return result.reduce(ee.Reducer.anyNonZero())\n",
        "\n",
        "def postprocess(event):\n",
        "    event = mfd.postprocess.postprocess(event)\n",
        "    event = mfd.postprocess.squash_extra_classes(event)\n",
        "    event = mfd.postprocess.set_true_date(event)\n",
        "    return event"
      ],
      "metadata": {
        "id": "GvE3_zuU3X8F"
      },
      "execution_count": null,
      "outputs": []
    },
    {
      "cell_type": "code",
      "source": [
        "grid_split_qc = ee.FeatureCollection('users/boothmanrylan/gridSplitForestedQC')\n",
        "\n",
        "grid_cell = grid_split_qc.filter(ee.Filter.eq(\"id\", 48)).first().geometry()\n"
      ],
      "metadata": {
        "id": "swd_qqeSzDPo"
      },
      "execution_count": null,
      "outputs": []
    },
    {
      "cell_type": "code",
      "source": [
        "quebec_fires = ee.ImageCollection(\"users/boothmanrylan/MSSForestDisturbances/test2\")\n",
        "\n",
        "events = mfd.postprocess.filter_and_clip(quebec_fires, grid_cell)\n",
        "\n",
        "processed_events = events.map(postprocess)\n",
        "\n",
        "events_carried_forward = mfd.postprocess.carry_observations_forward(processed_events)\n",
        "burns = sequencer.match_sequence(events_carried_forward, ee.List([1, 1, 1]))\n",
        "\n",
        "permanent_burns = mfd.postprocess.get_burn_year_spread(processed_events).gt(5)\n",
        "\n",
        "valid_burns = get_valid_burns(processed_events).And(permanent_burns.Not())\n",
        "all_burns = processed_events.reduce(ee.Reducer.anyNonZero())"
      ],
      "metadata": {
        "id": "3H8k9gWa5o_c"
      },
      "execution_count": null,
      "outputs": []
    },
    {
      "cell_type": "code",
      "source": [
        "binary_vis = {'min': 0, 'max': 1}\n",
        "\n",
        "Map = geemap.Map()\n",
        "Map.addLayer(grid_split_qc, {}, 'Grid Split QC')\n",
        "Map.addLayer(grid_cell, {}, 'Grid Cell of Interest')\n",
        "Map.addLayer(valid_burns, binary_vis, 'Valid Burns')\n",
        "Map.addLayer(all_burns, binary_vis, 'All Burns')\n",
        "Map.addLayer(burns, binary_vis, \"Burns\")\n",
        "Map.centerObject(grid_cell, 10)\n",
        "\n",
        "Map"
      ],
      "metadata": {
        "id": "6HWUPXN_5aaM"
      },
      "execution_count": null,
      "outputs": []
    }
  ]
}