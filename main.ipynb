{
  "nbformat": 4,
  "nbformat_minor": 0,
  "metadata": {
    "colab": {
      "name": "main.ipynb",
      "private_outputs": true,
      "provenance": [],
      "toc_visible": true,
      "authorship_tag": "ABX9TyM2hhjvfgX+uwopHjR25Ejy",
      "include_colab_link": true
    },
    "kernelspec": {
      "name": "python3",
      "display_name": "Python 3"
    },
    "language_info": {
      "name": "python"
    }
  },
  "cells": [
    {
      "cell_type": "markdown",
      "metadata": {
        "id": "view-in-github",
        "colab_type": "text"
      },
      "source": [
        "<a href=\"https://colab.research.google.com/github/boothmanrylan/MSSForestDisturbances/blob/main/main.ipynb\" target=\"_parent\"><img src=\"https://colab.research.google.com/assets/colab-badge.svg\" alt=\"Open In Colab\"/></a>"
      ]
    },
    {
      "cell_type": "markdown",
      "source": [
        "# imports and installs"
      ],
      "metadata": {
        "id": "ObnWdaD6SfZH"
      }
    },
    {
      "cell_type": "code",
      "source": [
        "# standard python imports\n",
        "import os"
      ],
      "metadata": {
        "id": "XmPjiqJ2UEWw"
      },
      "execution_count": null,
      "outputs": []
    },
    {
      "cell_type": "code",
      "source": [
        "# earth engine api import and authentication\n",
        "import ee\n",
        "ee.Authenticate()\n",
        "ee.Initialize()"
      ],
      "metadata": {
        "id": "tvcCkuuzTt3E"
      },
      "execution_count": null,
      "outputs": []
    },
    {
      "cell_type": "code",
      "source": [
        "# pip installable modules\n",
        "\n",
        "try:\n",
        "    import geemap.foliumap as geemap\n",
        "except:\n",
        "    !pip install geemap\n",
        "    import geemap.foliumap as geemap"
      ],
      "metadata": {
        "id": "nRF0RLJ0VXQP"
      },
      "execution_count": null,
      "outputs": []
    },
    {
      "cell_type": "code",
      "source": [
        "# install and import my packages from github\n",
        "from google.colab import drive, auth\n",
        "\n",
        "drive.mount('/content/drive/')\n",
        "%cd /content/drive/My\\ Drive/colaboratory\n",
        "\n",
        "# auth.authenticate_user()\n",
        "\n",
        "# install msslib\n",
        "! if [ ! -d ./msslib ]; then git clone https://github.com/boothmanrylan/msslib.git; fi\n",
        "%cd msslib\n",
        "! git pull\n",
        "! pip install .\n",
        "%cd ../\n",
        "\n",
        "from msslib import msslib\n",
        "\n",
        "# install sequencer\n",
        "! if [ ! -d ./sequencer ]; then git clone https://github.com/boothmanrylan/sequencer.git; fi\n",
        "%cd sequencer\n",
        "! git pull\n",
        "! pip install .\n",
        "%cd ../\n",
        "\n",
        "import sequencer\n",
        "\n",
        "# install MSSForestDisturbances\n",
        "! if [ ! -d ./MSSForestDisturbances ]; then git clone https://github.com/boothmanrylan/MSSForestDisturbances.git; fi\n",
        "%cd MSSForestDisturbances\n",
        "! git pull\n",
        "! pip install .\n",
        "%cd ../\n",
        "\n",
        "import mfd.postprocess\n",
        "import mfd.preprocess\n",
        "import mfd.utils\n",
        "import mfd.get_collection\n",
        "import mfd.export"
      ],
      "metadata": {
        "id": "a3FhNTyLSfGc"
      },
      "execution_count": null,
      "outputs": []
    },
    {
      "cell_type": "markdown",
      "source": [
        "# Reload\n",
        "\n",
        "Run these blocks if the modules have been updated since the runtime was started"
      ],
      "metadata": {
        "id": "nAqaOqSvUYlb"
      }
    },
    {
      "cell_type": "code",
      "source": [
        "from importlib import reload"
      ],
      "metadata": {
        "id": "SV9QKB7VUkFA"
      },
      "execution_count": null,
      "outputs": []
    },
    {
      "cell_type": "code",
      "source": [
        "# reload msslib\n",
        "%cd ./msslib\n",
        "! git pull\n",
        "msslib = reload(msslib)\n",
        "%cd ../"
      ],
      "metadata": {
        "id": "T5aJV29gUnDI"
      },
      "execution_count": null,
      "outputs": []
    },
    {
      "cell_type": "code",
      "source": [
        "# reload sequencer\n",
        "%cd ./sequencer/\n",
        "! git pull\n",
        "sequencer = reload(sequencer)\n",
        "%cd ../"
      ],
      "metadata": {
        "id": "XZMmLlPVUvt9"
      },
      "execution_count": null,
      "outputs": []
    },
    {
      "cell_type": "code",
      "source": [
        "# reload MSSForestDisturbances\n",
        "%cd ./MSSForestDisturbances/\n",
        "! git pull\n",
        "mfd.postprocess = reload(mfd.postprocess)\n",
        "mfd.preprocess = reload(mfd.preprocess)\n",
        "mfd.utils = reload(mfd.utils)\n",
        "mfd.get_collection = reload(mfd.get_collection)\n",
        "mfd.export = reload(mfd.export)\n",
        "%cd ../"
      ],
      "metadata": {
        "id": "STWBLr9pU18w"
      },
      "execution_count": null,
      "outputs": []
    },
    {
      "cell_type": "markdown",
      "source": [
        "# Test"
      ],
      "metadata": {
        "id": "Pu4SUHMCy7F0"
      }
    },
    {
      "cell_type": "code",
      "source": [
        "def get_valid_burns(events):\n",
        "    years = events.distinct(\"year\").aggregate_array(\"year\")\n",
        "\n",
        "    def _valid(year):\n",
        "        curr_events = events.filter(ee.Filter.eq(\"year\", year))\n",
        "        exclusively_burnt = curr_events.reduce(ee.Reducer.allNonZero())\n",
        "        burnt_often = curr_events.reduce(ee.Reducer.sum()).gt(1)\n",
        "        return exclusively_burnt.Or(burnt_often).selfMask()\n",
        "\n",
        "    result = ee.ImageCollection.fromImages(years.map(_valid))\n",
        "    return result.reduce(ee.Reducer.anyNonZero())\n",
        "\n",
        "def postprocess(event):\n",
        "    event = mfd.postprocess.postprocess(event)\n",
        "    event = mfd.postprocess.squash_extra_classes(event)\n",
        "    event = mfd.postprocess.set_true_date(event)\n",
        "    return event"
      ],
      "metadata": {
        "id": "GvE3_zuU3X8F"
      },
      "execution_count": null,
      "outputs": []
    },
    {
      "cell_type": "code",
      "source": [
        "grid_split_qc = ee.FeatureCollection('users/boothmanrylan/gridSplitForestedQC')\n",
        "\n",
        "grid_cell = grid_split_qc.filter(ee.Filter.eq(\"id\", 48)).first().geometry().centroid(100)\n"
      ],
      "metadata": {
        "id": "swd_qqeSzDPo"
      },
      "execution_count": null,
      "outputs": []
    },
    {
      "cell_type": "code",
      "source": [
        "quebec_fires = ee.ImageCollection(\"users/boothmanrylan/MSSForestDisturbances/test2\")\n",
        "\n",
        "events = mfd.postprocess.filter_and_clip(quebec_fires, grid_cell)\n",
        "\n",
        "valid_burns = get_valid_burns(events.map(postprocess))"
      ],
      "metadata": {
        "id": "3H8k9gWa5o_c"
      },
      "execution_count": null,
      "outputs": []
    },
    {
      "cell_type": "code",
      "source": [
        "print(events.size().getInfo())"
      ],
      "metadata": {
        "id": "CUtUqCuf8dVE"
      },
      "execution_count": null,
      "outputs": []
    },
    {
      "cell_type": "code",
      "source": [
        "Map = geemap.Map()\n",
        "Map.addLayer(grid_split_qc, {}, 'Grid Split QC')\n",
        "Map.addLayer(grid_cell, {}, 'Grid Cell of Interest')\n",
        "Map.addLayer(events, mfd.utils.CLASS_VIS, 'Events')\n",
        "Map.addLayer(valid_burns, {'min': 0, 'max': 1}, 'Valid Burns')\n",
        "\n",
        "Map"
      ],
      "metadata": {
        "id": "6HWUPXN_5aaM"
      },
      "execution_count": null,
      "outputs": []
    }
  ]
}