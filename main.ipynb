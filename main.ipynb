{
  "nbformat": 4,
  "nbformat_minor": 0,
  "metadata": {
    "colab": {
      "name": "main.ipynb",
      "private_outputs": true,
      "provenance": [],
      "authorship_tag": "ABX9TyNfn6eaX53da3BW0rz6XbCe",
      "include_colab_link": true
    },
    "kernelspec": {
      "name": "python3",
      "display_name": "Python 3"
    },
    "language_info": {
      "name": "python"
    }
  },
  "cells": [
    {
      "cell_type": "markdown",
      "metadata": {
        "id": "view-in-github",
        "colab_type": "text"
      },
      "source": [
        "<a href=\"https://colab.research.google.com/github/boothmanrylan/MSSForestDisturbances/blob/main/main.ipynb\" target=\"_parent\"><img src=\"https://colab.research.google.com/assets/colab-badge.svg\" alt=\"Open In Colab\"/></a>"
      ]
    },
    {
      "cell_type": "markdown",
      "source": [
        "# imports and installs"
      ],
      "metadata": {
        "id": "ObnWdaD6SfZH"
      }
    },
    {
      "cell_type": "code",
      "source": [
        "# standard python imports\n",
        "import os"
      ],
      "metadata": {
        "id": "XmPjiqJ2UEWw"
      },
      "execution_count": null,
      "outputs": []
    },
    {
      "cell_type": "code",
      "source": [
        "# earth engine api import and authentication\n",
        "import ee\n",
        "ee.Authenticate()\n",
        "ee.Initialize()"
      ],
      "metadata": {
        "id": "tvcCkuuzTt3E"
      },
      "execution_count": null,
      "outputs": []
    },
    {
      "cell_type": "code",
      "source": [
        "# install and import my packages from github\n",
        "from google.colab import drive, auth\n",
        "\n",
        "drive.mount('/content/drive/')\n",
        "%cd /content/drive/My\\ Drive/colaboratory\n",
        "\n",
        "auth.authenticate_user()\n",
        "\n",
        "# install msslib\n",
        "! if [ ! -d ./msslib ]; then git clone https://github.com/boothmanrylan/msslib.git; fi\n",
        "%cd msslib\n",
        "! git pull\n",
        "! pip install .\n",
        "%cd ../\n",
        "\n",
        "from msslib import msslib\n",
        "\n",
        "# install sequencer\n",
        "! if [ ! -d ./sequencer ]; then git clone https://github.com/boothmanrylan/sequencer.git; fi\n",
        "%cd sequencer\n",
        "! git pull\n",
        "! pip install .\n",
        "%cd ../\n",
        "\n",
        "import sequencer\n",
        "\n",
        "# install MSSForestDisturbances\n",
        "! if [ ! -d ./MSSForestDisturbances ]; then git clone https://github.com/boothmanrylan/MSSForestDisturbances.git; fi\n",
        "%cd MSSForestDisturbances\n",
        "! git pull\n",
        "! pip install .\n",
        "%cd ../\n",
        "\n",
        "from MSSForestDisturbances import postprocess, preprocess, utils, get_collection"
      ],
      "metadata": {
        "id": "a3FhNTyLSfGc"
      },
      "execution_count": null,
      "outputs": []
    }
  ]
}