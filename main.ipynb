{
 "cells": [
  {
   "cell_type": "markdown",
   "metadata": {
    "id": "ObnWdaD6SfZH"
   },
   "source": [
    "# imports and installs"
   ]
  },
  {
   "cell_type": "code",
   "execution_count": null,
   "metadata": {
    "id": "XmPjiqJ2UEWw"
   },
   "outputs": [],
   "source": [
    "# standard python imports\n",
    "import os"
   ]
  },
  {
   "cell_type": "code",
   "execution_count": null,
   "metadata": {
    "id": "tvcCkuuzTt3E"
   },
   "outputs": [],
   "source": [
    "# earth engine api import and authentication\n",
    "import ee\n",
    "ee.Authenticate()\n",
    "ee.Initialize()"
   ]
  },
  {
   "cell_type": "code",
   "execution_count": null,
   "metadata": {
    "id": "nRF0RLJ0VXQP"
   },
   "outputs": [],
   "source": [
    "# pip installable packages\n",
    "try:\n",
    "    import geemap\n",
    "except:\n",
    "    !pip install geemap\n",
    "    import geemap"
   ]
  },
  {
   "cell_type": "code",
   "execution_count": null,
   "metadata": {
    "id": "pqjr-7Umk9VA"
   },
   "outputs": [],
   "source": [
    "# autoreload all python modules before executing code block\n",
    "%load_ext autoreload\n",
    "%autoreload 2"
   ]
  },
  {
   "cell_type": "code",
   "execution_count": null,
   "metadata": {
    "id": "a3FhNTyLSfGc"
   },
   "outputs": [],
   "source": [
    "# install and import my packages\n",
    "this_dir = os.getcwd()\n",
    "msslib_dir = '~/school/msslib/'\n",
    "sequencer_dir = '~/school/sequencer/'\n",
    "mfd_dir = '~/school/MSSForestDisturbances/'\n",
    "\n",
    "packages = [msslib_dir, sequencer_dir, mfd_dir]\n",
    "\n",
    "for package in packages:\n",
    "    %cd {package}\n",
    "    ! pip install .\n",
    "    \n",
    "%cd {this_dir}\n",
    "    \n",
    "from msslib import msslib\n",
    "import sequencer\n",
    "import mfd"
   ]
  },
  {
   "cell_type": "markdown",
   "metadata": {
    "id": "Pu4SUHMCy7F0"
   },
   "source": [
    "# Test"
   ]
  },
  {
   "cell_type": "code",
   "execution_count": null,
   "metadata": {
    "id": "GvE3_zuU3X8F"
   },
   "outputs": [],
   "source": [
    "def get_valid_burns(events):\n",
    "    years = events.distinct(\"year\").aggregate_array(\"year\")\n",
    "\n",
    "    def _valid(year):\n",
    "        curr_events = events.filter(ee.Filter.eq(\"year\", year))\n",
    "        exclusively_burnt = curr_events.reduce(ee.Reducer.allNonZero())\n",
    "        burnt_often = curr_events.reduce(ee.Reducer.sum()).gt(1)\n",
    "        return exclusively_burnt.Or(burnt_often).selfMask()\n",
    "\n",
    "    result = ee.ImageCollection.fromImages(years.map(_valid))\n",
    "    return result.reduce(ee.Reducer.anyNonZero())\n",
    "\n",
    "def postprocess(event):\n",
    "    event = mfd.postprocess.postprocess(event)\n",
    "    event = mfd.postprocess.squash_extra_classes(event)\n",
    "    event = mfd.postprocess.set_true_date(event)\n",
    "    return event"
   ]
  },
  {
   "cell_type": "code",
   "execution_count": null,
   "metadata": {
    "id": "swd_qqeSzDPo"
   },
   "outputs": [],
   "source": [
    "grid_split_qc = ee.FeatureCollection('users/boothmanrylan/gridSplitForestedQC')\n",
    "\n",
    "grid_cell = grid_split_qc.filter(ee.Filter.eq(\"id\", 48)).first().geometry()\n"
   ]
  },
  {
   "cell_type": "code",
   "execution_count": null,
   "metadata": {
    "id": "3H8k9gWa5o_c"
   },
   "outputs": [],
   "source": [
    "quebec_fires = ee.ImageCollection(\"users/boothmanrylan/MSSForestDisturbances/test2\")\n",
    "\n",
    "events = mfd.postprocess.filter_and_clip(quebec_fires, grid_cell)\n",
    "\n",
    "processed_events = events.map(postprocess)\n",
    "\n",
    "events_carried_forward = mfd.postprocess.carry_observations_forward(processed_events)\n",
    "burns = sequencer.match_sequence(events_carried_forward, ee.List([1, 1, 1]))\n",
    "\n",
    "permanent_burns = mfd.postprocess.get_burn_year_spread(processed_events).gt(5)\n",
    "\n",
    "valid_burns = get_valid_burns(processed_events).And(permanent_burns.Not())\n",
    "all_burns = processed_events.reduce(ee.Reducer.anyNonZero())"
   ]
  },
  {
   "cell_type": "code",
   "execution_count": null,
   "metadata": {
    "id": "6HWUPXN_5aaM"
   },
   "outputs": [],
   "source": [
    "binary_vis = {'min': 0, 'max': 1}\n",
    "\n",
    "Map = geemap.Map()\n",
    "Map.addLayer(grid_split_qc, {}, 'Grid Split QC')\n",
    "Map.addLayer(grid_cell, {}, 'Grid Cell of Interest')\n",
    "Map.addLayer(valid_burns, binary_vis, 'Valid Burns')\n",
    "Map.addLayer(all_burns, binary_vis, 'All Burns')\n",
    "Map.addLayer(burns, binary_vis, \"Burns\")\n",
    "Map.centerObject(grid_cell, 10)\n",
    "\n",
    "Map"
   ]
  }
 ],
 "metadata": {
  "colab": {
   "authorship_tag": "ABX9TyP8qmh1JbObSSINhB2I1mhr",
   "include_colab_link": true,
   "name": "main.ipynb",
   "private_outputs": true,
   "provenance": [],
   "toc_visible": true
  },
  "kernelspec": {
   "display_name": "Python 3 (ipykernel)",
   "language": "python",
   "name": "python3"
  },
  "language_info": {
   "codemirror_mode": {
    "name": "ipython",
    "version": 3
   },
   "file_extension": ".py",
   "mimetype": "text/x-python",
   "name": "python",
   "nbconvert_exporter": "python",
   "pygments_lexer": "ipython3",
   "version": "3.8.10"
  }
 },
 "nbformat": 4,
 "nbformat_minor": 4
}
