{
 "cells": [
  {
   "cell_type": "markdown",
   "metadata": {
    "colab_type": "text",
    "id": "view-in-github"
   },
   "source": [
    "<a href=\"https://colab.research.google.com/github/boothmanrylan/MSSForestDisturbances/blob/main/main.ipynb\" target=\"_parent\"><img src=\"https://colab.research.google.com/assets/colab-badge.svg\" alt=\"Open In Colab\"/></a>"
   ]
  },
  {
   "cell_type": "markdown",
   "metadata": {
    "id": "ObnWdaD6SfZH"
   },
   "source": [
    "# imports and installs"
   ]
  },
  {
   "cell_type": "code",
   "execution_count": 6,
   "metadata": {
    "id": "XmPjiqJ2UEWw"
   },
   "outputs": [],
   "source": [
    "# standard python imports\n",
    "import os"
   ]
  },
  {
   "cell_type": "code",
   "execution_count": 7,
   "metadata": {
    "id": "tvcCkuuzTt3E"
   },
   "outputs": [
    {
     "data": {
      "text/html": [
       "<p>To authorize access needed by Earth Engine, open the following\n",
       "        URL in a web browser and follow the instructions:</p>\n",
       "        <p><a href=https://accounts.google.com/o/oauth2/auth?client_id=517222506229-vsmmajv00ul0bs7p89v5m89qs8eb9359.apps.googleusercontent.com&scope=https%3A%2F%2Fwww.googleapis.com%2Fauth%2Fearthengine+https%3A%2F%2Fwww.googleapis.com%2Fauth%2Fdevstorage.full_control&redirect_uri=urn%3Aietf%3Awg%3Aoauth%3A2.0%3Aoob&response_type=code&code_challenge=DuKJm9rdOZMURyHwZA_mygjlqLywFkgH0r_VOiZ28Iw&code_challenge_method=S256>https://accounts.google.com/o/oauth2/auth?client_id=517222506229-vsmmajv00ul0bs7p89v5m89qs8eb9359.apps.googleusercontent.com&scope=https%3A%2F%2Fwww.googleapis.com%2Fauth%2Fearthengine+https%3A%2F%2Fwww.googleapis.com%2Fauth%2Fdevstorage.full_control&redirect_uri=urn%3Aietf%3Awg%3Aoauth%3A2.0%3Aoob&response_type=code&code_challenge=DuKJm9rdOZMURyHwZA_mygjlqLywFkgH0r_VOiZ28Iw&code_challenge_method=S256</a></p>\n",
       "        <p>The authorization workflow will generate a code, which you\n",
       "        should paste in the box below</p>\n",
       "        "
      ],
      "text/plain": [
       "<IPython.core.display.HTML object>"
      ]
     },
     "metadata": {},
     "output_type": "display_data"
    },
    {
     "name": "stdin",
     "output_type": "stream",
     "text": [
      "Enter verification code:  4/1AX4XfWg5MGrGK928eym9BQYUJzMa0g6NSmQmO0fYGzcorp2A7bgkkA0KosY\n"
     ]
    },
    {
     "name": "stdout",
     "output_type": "stream",
     "text": [
      "\n",
      "Successfully saved authorization token.\n"
     ]
    }
   ],
   "source": [
    "# earth engine api import and authentication\n",
    "import ee\n",
    "ee.Authenticate()\n",
    "ee.Initialize()"
   ]
  },
  {
   "cell_type": "code",
   "execution_count": 8,
   "metadata": {
    "id": "nRF0RLJ0VXQP"
   },
   "outputs": [],
   "source": [
    "# pip installable packages\n",
    "try:\n",
    "    import geemap\n",
    "except:\n",
    "    !pip install geemap\n",
    "    import geemap"
   ]
  },
  {
   "cell_type": "code",
   "execution_count": 9,
   "metadata": {
    "id": "pqjr-7Umk9VA"
   },
   "outputs": [
    {
     "name": "stdout",
     "output_type": "stream",
     "text": [
      "The autoreload extension is already loaded. To reload it, use:\n",
      "  %reload_ext autoreload\n"
     ]
    }
   ],
   "source": [
    "# autoreload all python modules before executing code block\n",
    "%load_ext autoreload\n",
    "%autoreload 2"
   ]
  },
  {
   "cell_type": "code",
   "execution_count": 10,
   "metadata": {
    "id": "a3FhNTyLSfGc"
   },
   "outputs": [
    {
     "name": "stdout",
     "output_type": "stream",
     "text": [
      "/home/rylan/school/msslib\n",
      "Processing /home/rylan/school/msslib\n",
      "  Preparing metadata (setup.py) ... \u001b[?25ldone\n",
      "\u001b[?25hRequirement already satisfied: earthengine-api in /home/rylan/.envs/tf/lib/python3.8/site-packages (from msslib==0.1.0) (0.1.288)\n",
      "Requirement already satisfied: IPython in /home/rylan/.envs/tf/lib/python3.8/site-packages (from msslib==0.1.0) (7.25.0)\n",
      "Requirement already satisfied: folium in /home/rylan/.envs/tf/lib/python3.8/site-packages (from msslib==0.1.0) (0.12.1.post1)\n",
      "Requirement already satisfied: six in /home/rylan/.envs/tf/lib/python3.8/site-packages (from earthengine-api->msslib==0.1.0) (1.15.0)\n",
      "Requirement already satisfied: google-api-python-client<2,>=1.12.1 in /home/rylan/.envs/tf/lib/python3.8/site-packages (from earthengine-api->msslib==0.1.0) (1.12.10)\n",
      "Requirement already satisfied: google-cloud-storage in /home/rylan/.envs/tf/lib/python3.8/site-packages (from earthengine-api->msslib==0.1.0) (1.42.3)\n",
      "Requirement already satisfied: httplib2<1dev,>=0.9.2 in /home/rylan/.envs/tf/lib/python3.8/site-packages (from earthengine-api->msslib==0.1.0) (0.20.2)\n",
      "Requirement already satisfied: google-auth>=1.4.1 in /home/rylan/.envs/tf/lib/python3.8/site-packages (from earthengine-api->msslib==0.1.0) (1.32.1)\n",
      "Requirement already satisfied: google-auth-httplib2>=0.0.3 in /home/rylan/.envs/tf/lib/python3.8/site-packages (from earthengine-api->msslib==0.1.0) (0.1.0)\n",
      "Requirement already satisfied: httplib2shim in /home/rylan/.envs/tf/lib/python3.8/site-packages (from earthengine-api->msslib==0.1.0) (0.0.3)\n",
      "Requirement already satisfied: future in /home/rylan/.envs/tf/lib/python3.8/site-packages (from earthengine-api->msslib==0.1.0) (0.18.2)\n",
      "Requirement already satisfied: numpy in /home/rylan/.envs/tf/lib/python3.8/site-packages (from folium->msslib==0.1.0) (1.22.1)\n",
      "Requirement already satisfied: requests in /home/rylan/.envs/tf/lib/python3.8/site-packages (from folium->msslib==0.1.0) (2.25.1)\n",
      "Requirement already satisfied: branca>=0.3.0 in /home/rylan/.envs/tf/lib/python3.8/site-packages (from folium->msslib==0.1.0) (0.4.2)\n",
      "Requirement already satisfied: jinja2>=2.9 in /home/rylan/.envs/tf/lib/python3.8/site-packages (from folium->msslib==0.1.0) (3.0.3)\n",
      "Requirement already satisfied: jedi>=0.16 in /home/rylan/.envs/tf/lib/python3.8/site-packages (from IPython->msslib==0.1.0) (0.18.0)\n",
      "Requirement already satisfied: matplotlib-inline in /home/rylan/.envs/tf/lib/python3.8/site-packages (from IPython->msslib==0.1.0) (0.1.2)\n",
      "Requirement already satisfied: traitlets>=4.2 in /home/rylan/.envs/tf/lib/python3.8/site-packages (from IPython->msslib==0.1.0) (5.1.1)\n",
      "Requirement already satisfied: decorator in /home/rylan/.envs/tf/lib/python3.8/site-packages (from IPython->msslib==0.1.0) (5.0.9)\n",
      "Requirement already satisfied: pexpect>4.3 in /home/rylan/.envs/tf/lib/python3.8/site-packages (from IPython->msslib==0.1.0) (4.8.0)\n",
      "Requirement already satisfied: prompt-toolkit!=3.0.0,!=3.0.1,<3.1.0,>=2.0.0 in /home/rylan/.envs/tf/lib/python3.8/site-packages (from IPython->msslib==0.1.0) (3.0.19)\n",
      "Requirement already satisfied: setuptools>=18.5 in /home/rylan/.envs/tf/lib/python3.8/site-packages (from IPython->msslib==0.1.0) (57.0.0)\n",
      "Requirement already satisfied: pickleshare in /home/rylan/.envs/tf/lib/python3.8/site-packages (from IPython->msslib==0.1.0) (0.7.5)\n",
      "Requirement already satisfied: backcall in /home/rylan/.envs/tf/lib/python3.8/site-packages (from IPython->msslib==0.1.0) (0.2.0)\n",
      "Requirement already satisfied: pygments in /home/rylan/.envs/tf/lib/python3.8/site-packages (from IPython->msslib==0.1.0) (2.9.0)\n",
      "Requirement already satisfied: google-api-core<3dev,>=1.21.0 in /home/rylan/.envs/tf/lib/python3.8/site-packages (from google-api-python-client<2,>=1.12.1->earthengine-api->msslib==0.1.0) (1.31.4)\n",
      "Requirement already satisfied: uritemplate<4dev,>=3.0.0 in /home/rylan/.envs/tf/lib/python3.8/site-packages (from google-api-python-client<2,>=1.12.1->earthengine-api->msslib==0.1.0) (3.0.1)\n",
      "Requirement already satisfied: cachetools<5.0,>=2.0.0 in /home/rylan/.envs/tf/lib/python3.8/site-packages (from google-auth>=1.4.1->earthengine-api->msslib==0.1.0) (4.2.2)\n",
      "Requirement already satisfied: pyasn1-modules>=0.2.1 in /home/rylan/.envs/tf/lib/python3.8/site-packages (from google-auth>=1.4.1->earthengine-api->msslib==0.1.0) (0.2.8)\n",
      "Requirement already satisfied: rsa<5,>=3.1.4 in /home/rylan/.envs/tf/lib/python3.8/site-packages (from google-auth>=1.4.1->earthengine-api->msslib==0.1.0) (4.7.2)\n",
      "Requirement already satisfied: pyparsing!=3.0.0,!=3.0.1,!=3.0.2,!=3.0.3,<4,>=2.4.2 in /home/rylan/.envs/tf/lib/python3.8/site-packages (from httplib2<1dev,>=0.9.2->earthengine-api->msslib==0.1.0) (2.4.7)\n",
      "Requirement already satisfied: parso<0.9.0,>=0.8.0 in /home/rylan/.envs/tf/lib/python3.8/site-packages (from jedi>=0.16->IPython->msslib==0.1.0) (0.8.2)\n",
      "Requirement already satisfied: MarkupSafe>=2.0 in /home/rylan/.envs/tf/lib/python3.8/site-packages (from jinja2>=2.9->folium->msslib==0.1.0) (2.0.1)\n",
      "Requirement already satisfied: ptyprocess>=0.5 in /home/rylan/.envs/tf/lib/python3.8/site-packages (from pexpect>4.3->IPython->msslib==0.1.0) (0.7.0)\n",
      "Requirement already satisfied: wcwidth in /home/rylan/.envs/tf/lib/python3.8/site-packages (from prompt-toolkit!=3.0.0,!=3.0.1,<3.1.0,>=2.0.0->IPython->msslib==0.1.0) (0.2.5)\n",
      "Requirement already satisfied: protobuf in /home/rylan/.envs/tf/lib/python3.8/site-packages (from google-cloud-storage->earthengine-api->msslib==0.1.0) (3.17.3)\n",
      "Requirement already satisfied: google-resumable-media<3.0dev,>=1.3.0 in /home/rylan/.envs/tf/lib/python3.8/site-packages (from google-cloud-storage->earthengine-api->msslib==0.1.0) (2.1.0)\n",
      "Requirement already satisfied: google-cloud-core<3.0dev,>=1.6.0 in /home/rylan/.envs/tf/lib/python3.8/site-packages (from google-cloud-storage->earthengine-api->msslib==0.1.0) (2.2.1)\n",
      "Requirement already satisfied: certifi>=2017.4.17 in /home/rylan/.envs/tf/lib/python3.8/site-packages (from requests->folium->msslib==0.1.0) (2021.5.30)\n",
      "Requirement already satisfied: chardet<5,>=3.0.2 in /home/rylan/.envs/tf/lib/python3.8/site-packages (from requests->folium->msslib==0.1.0) (4.0.0)\n",
      "Requirement already satisfied: urllib3<1.27,>=1.21.1 in /home/rylan/.envs/tf/lib/python3.8/site-packages (from requests->folium->msslib==0.1.0) (1.26.6)\n",
      "Requirement already satisfied: idna<3,>=2.5 in /home/rylan/.envs/tf/lib/python3.8/site-packages (from requests->folium->msslib==0.1.0) (2.10)\n",
      "Requirement already satisfied: packaging>=14.3 in /home/rylan/.envs/tf/lib/python3.8/site-packages (from google-api-core<3dev,>=1.21.0->google-api-python-client<2,>=1.12.1->earthengine-api->msslib==0.1.0) (21.2)\n",
      "Requirement already satisfied: googleapis-common-protos<2.0dev,>=1.6.0 in /home/rylan/.envs/tf/lib/python3.8/site-packages (from google-api-core<3dev,>=1.21.0->google-api-python-client<2,>=1.12.1->earthengine-api->msslib==0.1.0) (1.53.0)\n",
      "Requirement already satisfied: pytz in /home/rylan/.envs/tf/lib/python3.8/site-packages (from google-api-core<3dev,>=1.21.0->google-api-python-client<2,>=1.12.1->earthengine-api->msslib==0.1.0) (2021.1)\n",
      "Requirement already satisfied: google-crc32c<2.0dev,>=1.0 in /home/rylan/.envs/tf/lib/python3.8/site-packages (from google-resumable-media<3.0dev,>=1.3.0->google-cloud-storage->earthengine-api->msslib==0.1.0) (1.3.0)\n",
      "Requirement already satisfied: pyasn1<0.5.0,>=0.4.6 in /home/rylan/.envs/tf/lib/python3.8/site-packages (from pyasn1-modules>=0.2.1->google-auth>=1.4.1->earthengine-api->msslib==0.1.0) (0.4.8)\n",
      "Building wheels for collected packages: msslib\n",
      "  Building wheel for msslib (setup.py) ... \u001b[?25ldone\n",
      "\u001b[?25h  Created wheel for msslib: filename=msslib-0.1.0-py3-none-any.whl size=13506 sha256=bf35b80cc7357ce04e1283e2236164e99112ae9f09716b9c993a82a96bc44e22\n",
      "  Stored in directory: /tmp/pip-ephem-wheel-cache-1q3_l4qa/wheels/62/0f/de/7375dcf731b582a190c62c301d1bae8fbf24650f27285fa167\n",
      "Successfully built msslib\n",
      "Installing collected packages: msslib\n",
      "  Attempting uninstall: msslib\n",
      "    Found existing installation: msslib 0.1.0\n",
      "    Uninstalling msslib-0.1.0:\n",
      "      Successfully uninstalled msslib-0.1.0\n",
      "Successfully installed msslib-0.1.0\n",
      "\u001b[33mWARNING: You are using pip version 21.3.1; however, version 22.0.3 is available.\n",
      "You should consider upgrading via the '/home/rylan/.envs/tf/bin/python -m pip install --upgrade pip' command.\u001b[0m\n",
      "/home/rylan/school/sequencer\n",
      "Processing /home/rylan/school/sequencer\n",
      "  Preparing metadata (setup.py) ... \u001b[?25ldone\n",
      "\u001b[?25hRequirement already satisfied: earthengine-api in /home/rylan/.envs/tf/lib/python3.8/site-packages (from sequencer==0.0.0) (0.1.288)\n",
      "Requirement already satisfied: IPython in /home/rylan/.envs/tf/lib/python3.8/site-packages (from sequencer==0.0.0) (7.25.0)\n",
      "Requirement already satisfied: folium in /home/rylan/.envs/tf/lib/python3.8/site-packages (from sequencer==0.0.0) (0.12.1.post1)\n",
      "Requirement already satisfied: google-api-python-client<2,>=1.12.1 in /home/rylan/.envs/tf/lib/python3.8/site-packages (from earthengine-api->sequencer==0.0.0) (1.12.10)\n",
      "Requirement already satisfied: six in /home/rylan/.envs/tf/lib/python3.8/site-packages (from earthengine-api->sequencer==0.0.0) (1.15.0)\n",
      "Requirement already satisfied: google-auth-httplib2>=0.0.3 in /home/rylan/.envs/tf/lib/python3.8/site-packages (from earthengine-api->sequencer==0.0.0) (0.1.0)\n",
      "Requirement already satisfied: httplib2<1dev,>=0.9.2 in /home/rylan/.envs/tf/lib/python3.8/site-packages (from earthengine-api->sequencer==0.0.0) (0.20.2)\n",
      "Requirement already satisfied: google-cloud-storage in /home/rylan/.envs/tf/lib/python3.8/site-packages (from earthengine-api->sequencer==0.0.0) (1.42.3)\n",
      "Requirement already satisfied: future in /home/rylan/.envs/tf/lib/python3.8/site-packages (from earthengine-api->sequencer==0.0.0) (0.18.2)\n",
      "Requirement already satisfied: httplib2shim in /home/rylan/.envs/tf/lib/python3.8/site-packages (from earthengine-api->sequencer==0.0.0) (0.0.3)\n",
      "Requirement already satisfied: google-auth>=1.4.1 in /home/rylan/.envs/tf/lib/python3.8/site-packages (from earthengine-api->sequencer==0.0.0) (1.32.1)\n",
      "Requirement already satisfied: branca>=0.3.0 in /home/rylan/.envs/tf/lib/python3.8/site-packages (from folium->sequencer==0.0.0) (0.4.2)\n",
      "Requirement already satisfied: requests in /home/rylan/.envs/tf/lib/python3.8/site-packages (from folium->sequencer==0.0.0) (2.25.1)\n",
      "Requirement already satisfied: numpy in /home/rylan/.envs/tf/lib/python3.8/site-packages (from folium->sequencer==0.0.0) (1.22.1)\n",
      "Requirement already satisfied: jinja2>=2.9 in /home/rylan/.envs/tf/lib/python3.8/site-packages (from folium->sequencer==0.0.0) (3.0.3)\n",
      "Requirement already satisfied: matplotlib-inline in /home/rylan/.envs/tf/lib/python3.8/site-packages (from IPython->sequencer==0.0.0) (0.1.2)\n",
      "Requirement already satisfied: traitlets>=4.2 in /home/rylan/.envs/tf/lib/python3.8/site-packages (from IPython->sequencer==0.0.0) (5.1.1)\n",
      "Requirement already satisfied: backcall in /home/rylan/.envs/tf/lib/python3.8/site-packages (from IPython->sequencer==0.0.0) (0.2.0)\n",
      "Requirement already satisfied: setuptools>=18.5 in /home/rylan/.envs/tf/lib/python3.8/site-packages (from IPython->sequencer==0.0.0) (57.0.0)\n",
      "Requirement already satisfied: pickleshare in /home/rylan/.envs/tf/lib/python3.8/site-packages (from IPython->sequencer==0.0.0) (0.7.5)\n",
      "Requirement already satisfied: pexpect>4.3 in /home/rylan/.envs/tf/lib/python3.8/site-packages (from IPython->sequencer==0.0.0) (4.8.0)\n",
      "Requirement already satisfied: decorator in /home/rylan/.envs/tf/lib/python3.8/site-packages (from IPython->sequencer==0.0.0) (5.0.9)\n",
      "Requirement already satisfied: prompt-toolkit!=3.0.0,!=3.0.1,<3.1.0,>=2.0.0 in /home/rylan/.envs/tf/lib/python3.8/site-packages (from IPython->sequencer==0.0.0) (3.0.19)\n",
      "Requirement already satisfied: jedi>=0.16 in /home/rylan/.envs/tf/lib/python3.8/site-packages (from IPython->sequencer==0.0.0) (0.18.0)\n",
      "Requirement already satisfied: pygments in /home/rylan/.envs/tf/lib/python3.8/site-packages (from IPython->sequencer==0.0.0) (2.9.0)\n",
      "Requirement already satisfied: uritemplate<4dev,>=3.0.0 in /home/rylan/.envs/tf/lib/python3.8/site-packages (from google-api-python-client<2,>=1.12.1->earthengine-api->sequencer==0.0.0) (3.0.1)\n",
      "Requirement already satisfied: google-api-core<3dev,>=1.21.0 in /home/rylan/.envs/tf/lib/python3.8/site-packages (from google-api-python-client<2,>=1.12.1->earthengine-api->sequencer==0.0.0) (1.31.4)\n",
      "Requirement already satisfied: pyasn1-modules>=0.2.1 in /home/rylan/.envs/tf/lib/python3.8/site-packages (from google-auth>=1.4.1->earthengine-api->sequencer==0.0.0) (0.2.8)\n",
      "Requirement already satisfied: rsa<5,>=3.1.4 in /home/rylan/.envs/tf/lib/python3.8/site-packages (from google-auth>=1.4.1->earthengine-api->sequencer==0.0.0) (4.7.2)\n",
      "Requirement already satisfied: cachetools<5.0,>=2.0.0 in /home/rylan/.envs/tf/lib/python3.8/site-packages (from google-auth>=1.4.1->earthengine-api->sequencer==0.0.0) (4.2.2)\n",
      "Requirement already satisfied: pyparsing!=3.0.0,!=3.0.1,!=3.0.2,!=3.0.3,<4,>=2.4.2 in /home/rylan/.envs/tf/lib/python3.8/site-packages (from httplib2<1dev,>=0.9.2->earthengine-api->sequencer==0.0.0) (2.4.7)\n",
      "Requirement already satisfied: parso<0.9.0,>=0.8.0 in /home/rylan/.envs/tf/lib/python3.8/site-packages (from jedi>=0.16->IPython->sequencer==0.0.0) (0.8.2)\n",
      "Requirement already satisfied: MarkupSafe>=2.0 in /home/rylan/.envs/tf/lib/python3.8/site-packages (from jinja2>=2.9->folium->sequencer==0.0.0) (2.0.1)\n",
      "Requirement already satisfied: ptyprocess>=0.5 in /home/rylan/.envs/tf/lib/python3.8/site-packages (from pexpect>4.3->IPython->sequencer==0.0.0) (0.7.0)\n",
      "Requirement already satisfied: wcwidth in /home/rylan/.envs/tf/lib/python3.8/site-packages (from prompt-toolkit!=3.0.0,!=3.0.1,<3.1.0,>=2.0.0->IPython->sequencer==0.0.0) (0.2.5)\n",
      "Requirement already satisfied: google-cloud-core<3.0dev,>=1.6.0 in /home/rylan/.envs/tf/lib/python3.8/site-packages (from google-cloud-storage->earthengine-api->sequencer==0.0.0) (2.2.1)\n",
      "Requirement already satisfied: google-resumable-media<3.0dev,>=1.3.0 in /home/rylan/.envs/tf/lib/python3.8/site-packages (from google-cloud-storage->earthengine-api->sequencer==0.0.0) (2.1.0)\n",
      "Requirement already satisfied: protobuf in /home/rylan/.envs/tf/lib/python3.8/site-packages (from google-cloud-storage->earthengine-api->sequencer==0.0.0) (3.17.3)\n",
      "Requirement already satisfied: chardet<5,>=3.0.2 in /home/rylan/.envs/tf/lib/python3.8/site-packages (from requests->folium->sequencer==0.0.0) (4.0.0)\n",
      "Requirement already satisfied: idna<3,>=2.5 in /home/rylan/.envs/tf/lib/python3.8/site-packages (from requests->folium->sequencer==0.0.0) (2.10)\n",
      "Requirement already satisfied: certifi>=2017.4.17 in /home/rylan/.envs/tf/lib/python3.8/site-packages (from requests->folium->sequencer==0.0.0) (2021.5.30)\n",
      "Requirement already satisfied: urllib3<1.27,>=1.21.1 in /home/rylan/.envs/tf/lib/python3.8/site-packages (from requests->folium->sequencer==0.0.0) (1.26.6)\n",
      "Requirement already satisfied: googleapis-common-protos<2.0dev,>=1.6.0 in /home/rylan/.envs/tf/lib/python3.8/site-packages (from google-api-core<3dev,>=1.21.0->google-api-python-client<2,>=1.12.1->earthengine-api->sequencer==0.0.0) (1.53.0)\n",
      "Requirement already satisfied: pytz in /home/rylan/.envs/tf/lib/python3.8/site-packages (from google-api-core<3dev,>=1.21.0->google-api-python-client<2,>=1.12.1->earthengine-api->sequencer==0.0.0) (2021.1)\n",
      "Requirement already satisfied: packaging>=14.3 in /home/rylan/.envs/tf/lib/python3.8/site-packages (from google-api-core<3dev,>=1.21.0->google-api-python-client<2,>=1.12.1->earthengine-api->sequencer==0.0.0) (21.2)\n",
      "Requirement already satisfied: google-crc32c<2.0dev,>=1.0 in /home/rylan/.envs/tf/lib/python3.8/site-packages (from google-resumable-media<3.0dev,>=1.3.0->google-cloud-storage->earthengine-api->sequencer==0.0.0) (1.3.0)\n",
      "Requirement already satisfied: pyasn1<0.5.0,>=0.4.6 in /home/rylan/.envs/tf/lib/python3.8/site-packages (from pyasn1-modules>=0.2.1->google-auth>=1.4.1->earthengine-api->sequencer==0.0.0) (0.4.8)\n",
      "Building wheels for collected packages: sequencer\n",
      "  Building wheel for sequencer (setup.py) ... \u001b[?25ldone\n",
      "\u001b[?25h  Created wheel for sequencer: filename=sequencer-0.0.0-py3-none-any.whl size=4214 sha256=5a48dfc9b11dfc46c2be24567582db9c38c38cb37e3317300e8e6aad4fa39461\n",
      "  Stored in directory: /tmp/pip-ephem-wheel-cache-ny4jj4bc/wheels/8c/a3/d5/865c166fdb24dd292deafd599033d888c67656896caadb8048\n",
      "Successfully built sequencer\n",
      "Installing collected packages: sequencer\n",
      "Successfully installed sequencer-0.0.0\n",
      "\u001b[33mWARNING: You are using pip version 21.3.1; however, version 22.0.3 is available.\n",
      "You should consider upgrading via the '/home/rylan/.envs/tf/bin/python -m pip install --upgrade pip' command.\u001b[0m\n",
      "/home/rylan/school/MSSForestDisturbances\n",
      "Processing /home/rylan/school/MSSForestDisturbances\n",
      "  Preparing metadata (setup.py) ... \u001b[?25ldone\n",
      "\u001b[?25hRequirement already satisfied: earthengine-api in /home/rylan/.envs/tf/lib/python3.8/site-packages (from MSSForestDisturbances==0.0.0) (0.1.288)\n",
      "Requirement already satisfied: IPython in /home/rylan/.envs/tf/lib/python3.8/site-packages (from MSSForestDisturbances==0.0.0) (7.25.0)\n",
      "Requirement already satisfied: folium in /home/rylan/.envs/tf/lib/python3.8/site-packages (from MSSForestDisturbances==0.0.0) (0.12.1.post1)\n",
      "Requirement already satisfied: future in /home/rylan/.envs/tf/lib/python3.8/site-packages (from earthengine-api->MSSForestDisturbances==0.0.0) (0.18.2)\n",
      "Requirement already satisfied: httplib2<1dev,>=0.9.2 in /home/rylan/.envs/tf/lib/python3.8/site-packages (from earthengine-api->MSSForestDisturbances==0.0.0) (0.20.2)\n",
      "Requirement already satisfied: six in /home/rylan/.envs/tf/lib/python3.8/site-packages (from earthengine-api->MSSForestDisturbances==0.0.0) (1.15.0)\n",
      "Requirement already satisfied: google-auth>=1.4.1 in /home/rylan/.envs/tf/lib/python3.8/site-packages (from earthengine-api->MSSForestDisturbances==0.0.0) (1.32.1)\n",
      "Requirement already satisfied: google-auth-httplib2>=0.0.3 in /home/rylan/.envs/tf/lib/python3.8/site-packages (from earthengine-api->MSSForestDisturbances==0.0.0) (0.1.0)\n",
      "Requirement already satisfied: httplib2shim in /home/rylan/.envs/tf/lib/python3.8/site-packages (from earthengine-api->MSSForestDisturbances==0.0.0) (0.0.3)\n",
      "Requirement already satisfied: google-cloud-storage in /home/rylan/.envs/tf/lib/python3.8/site-packages (from earthengine-api->MSSForestDisturbances==0.0.0) (1.42.3)\n",
      "Requirement already satisfied: google-api-python-client<2,>=1.12.1 in /home/rylan/.envs/tf/lib/python3.8/site-packages (from earthengine-api->MSSForestDisturbances==0.0.0) (1.12.10)\n",
      "Requirement already satisfied: numpy in /home/rylan/.envs/tf/lib/python3.8/site-packages (from folium->MSSForestDisturbances==0.0.0) (1.22.1)\n",
      "Requirement already satisfied: jinja2>=2.9 in /home/rylan/.envs/tf/lib/python3.8/site-packages (from folium->MSSForestDisturbances==0.0.0) (3.0.3)\n",
      "Requirement already satisfied: branca>=0.3.0 in /home/rylan/.envs/tf/lib/python3.8/site-packages (from folium->MSSForestDisturbances==0.0.0) (0.4.2)\n",
      "Requirement already satisfied: requests in /home/rylan/.envs/tf/lib/python3.8/site-packages (from folium->MSSForestDisturbances==0.0.0) (2.25.1)\n",
      "Requirement already satisfied: setuptools>=18.5 in /home/rylan/.envs/tf/lib/python3.8/site-packages (from IPython->MSSForestDisturbances==0.0.0) (57.0.0)\n",
      "Requirement already satisfied: jedi>=0.16 in /home/rylan/.envs/tf/lib/python3.8/site-packages (from IPython->MSSForestDisturbances==0.0.0) (0.18.0)\n",
      "Requirement already satisfied: decorator in /home/rylan/.envs/tf/lib/python3.8/site-packages (from IPython->MSSForestDisturbances==0.0.0) (5.0.9)\n",
      "Requirement already satisfied: prompt-toolkit!=3.0.0,!=3.0.1,<3.1.0,>=2.0.0 in /home/rylan/.envs/tf/lib/python3.8/site-packages (from IPython->MSSForestDisturbances==0.0.0) (3.0.19)\n",
      "Requirement already satisfied: matplotlib-inline in /home/rylan/.envs/tf/lib/python3.8/site-packages (from IPython->MSSForestDisturbances==0.0.0) (0.1.2)\n",
      "Requirement already satisfied: pygments in /home/rylan/.envs/tf/lib/python3.8/site-packages (from IPython->MSSForestDisturbances==0.0.0) (2.9.0)\n",
      "Requirement already satisfied: pexpect>4.3 in /home/rylan/.envs/tf/lib/python3.8/site-packages (from IPython->MSSForestDisturbances==0.0.0) (4.8.0)\n",
      "Requirement already satisfied: pickleshare in /home/rylan/.envs/tf/lib/python3.8/site-packages (from IPython->MSSForestDisturbances==0.0.0) (0.7.5)\n",
      "Requirement already satisfied: backcall in /home/rylan/.envs/tf/lib/python3.8/site-packages (from IPython->MSSForestDisturbances==0.0.0) (0.2.0)\n",
      "Requirement already satisfied: traitlets>=4.2 in /home/rylan/.envs/tf/lib/python3.8/site-packages (from IPython->MSSForestDisturbances==0.0.0) (5.1.1)\n",
      "Requirement already satisfied: uritemplate<4dev,>=3.0.0 in /home/rylan/.envs/tf/lib/python3.8/site-packages (from google-api-python-client<2,>=1.12.1->earthengine-api->MSSForestDisturbances==0.0.0) (3.0.1)\n",
      "Requirement already satisfied: google-api-core<3dev,>=1.21.0 in /home/rylan/.envs/tf/lib/python3.8/site-packages (from google-api-python-client<2,>=1.12.1->earthengine-api->MSSForestDisturbances==0.0.0) (1.31.4)\n",
      "Requirement already satisfied: pyasn1-modules>=0.2.1 in /home/rylan/.envs/tf/lib/python3.8/site-packages (from google-auth>=1.4.1->earthengine-api->MSSForestDisturbances==0.0.0) (0.2.8)\n",
      "Requirement already satisfied: rsa<5,>=3.1.4 in /home/rylan/.envs/tf/lib/python3.8/site-packages (from google-auth>=1.4.1->earthengine-api->MSSForestDisturbances==0.0.0) (4.7.2)\n",
      "Requirement already satisfied: cachetools<5.0,>=2.0.0 in /home/rylan/.envs/tf/lib/python3.8/site-packages (from google-auth>=1.4.1->earthengine-api->MSSForestDisturbances==0.0.0) (4.2.2)\n",
      "Requirement already satisfied: pyparsing!=3.0.0,!=3.0.1,!=3.0.2,!=3.0.3,<4,>=2.4.2 in /home/rylan/.envs/tf/lib/python3.8/site-packages (from httplib2<1dev,>=0.9.2->earthengine-api->MSSForestDisturbances==0.0.0) (2.4.7)\n",
      "Requirement already satisfied: parso<0.9.0,>=0.8.0 in /home/rylan/.envs/tf/lib/python3.8/site-packages (from jedi>=0.16->IPython->MSSForestDisturbances==0.0.0) (0.8.2)\n",
      "Requirement already satisfied: MarkupSafe>=2.0 in /home/rylan/.envs/tf/lib/python3.8/site-packages (from jinja2>=2.9->folium->MSSForestDisturbances==0.0.0) (2.0.1)\n",
      "Requirement already satisfied: ptyprocess>=0.5 in /home/rylan/.envs/tf/lib/python3.8/site-packages (from pexpect>4.3->IPython->MSSForestDisturbances==0.0.0) (0.7.0)\n",
      "Requirement already satisfied: wcwidth in /home/rylan/.envs/tf/lib/python3.8/site-packages (from prompt-toolkit!=3.0.0,!=3.0.1,<3.1.0,>=2.0.0->IPython->MSSForestDisturbances==0.0.0) (0.2.5)\n",
      "Requirement already satisfied: google-cloud-core<3.0dev,>=1.6.0 in /home/rylan/.envs/tf/lib/python3.8/site-packages (from google-cloud-storage->earthengine-api->MSSForestDisturbances==0.0.0) (2.2.1)\n",
      "Requirement already satisfied: google-resumable-media<3.0dev,>=1.3.0 in /home/rylan/.envs/tf/lib/python3.8/site-packages (from google-cloud-storage->earthengine-api->MSSForestDisturbances==0.0.0) (2.1.0)\n",
      "Requirement already satisfied: protobuf in /home/rylan/.envs/tf/lib/python3.8/site-packages (from google-cloud-storage->earthengine-api->MSSForestDisturbances==0.0.0) (3.17.3)\n",
      "Requirement already satisfied: urllib3<1.27,>=1.21.1 in /home/rylan/.envs/tf/lib/python3.8/site-packages (from requests->folium->MSSForestDisturbances==0.0.0) (1.26.6)\n",
      "Requirement already satisfied: idna<3,>=2.5 in /home/rylan/.envs/tf/lib/python3.8/site-packages (from requests->folium->MSSForestDisturbances==0.0.0) (2.10)\n",
      "Requirement already satisfied: chardet<5,>=3.0.2 in /home/rylan/.envs/tf/lib/python3.8/site-packages (from requests->folium->MSSForestDisturbances==0.0.0) (4.0.0)\n",
      "Requirement already satisfied: certifi>=2017.4.17 in /home/rylan/.envs/tf/lib/python3.8/site-packages (from requests->folium->MSSForestDisturbances==0.0.0) (2021.5.30)\n",
      "Requirement already satisfied: packaging>=14.3 in /home/rylan/.envs/tf/lib/python3.8/site-packages (from google-api-core<3dev,>=1.21.0->google-api-python-client<2,>=1.12.1->earthengine-api->MSSForestDisturbances==0.0.0) (21.2)\n",
      "Requirement already satisfied: pytz in /home/rylan/.envs/tf/lib/python3.8/site-packages (from google-api-core<3dev,>=1.21.0->google-api-python-client<2,>=1.12.1->earthengine-api->MSSForestDisturbances==0.0.0) (2021.1)\n",
      "Requirement already satisfied: googleapis-common-protos<2.0dev,>=1.6.0 in /home/rylan/.envs/tf/lib/python3.8/site-packages (from google-api-core<3dev,>=1.21.0->google-api-python-client<2,>=1.12.1->earthengine-api->MSSForestDisturbances==0.0.0) (1.53.0)\n",
      "Requirement already satisfied: google-crc32c<2.0dev,>=1.0 in /home/rylan/.envs/tf/lib/python3.8/site-packages (from google-resumable-media<3.0dev,>=1.3.0->google-cloud-storage->earthengine-api->MSSForestDisturbances==0.0.0) (1.3.0)\n",
      "Requirement already satisfied: pyasn1<0.5.0,>=0.4.6 in /home/rylan/.envs/tf/lib/python3.8/site-packages (from pyasn1-modules>=0.2.1->google-auth>=1.4.1->earthengine-api->MSSForestDisturbances==0.0.0) (0.4.8)\n",
      "Building wheels for collected packages: MSSForestDisturbances\n",
      "  Building wheel for MSSForestDisturbances (setup.py) ... \u001b[?25ldone\n",
      "\u001b[?25h  Created wheel for MSSForestDisturbances: filename=MSSForestDisturbances-0.0.0-py3-none-any.whl size=9795 sha256=413627ba02a5e828e095c1f8820df8a51bb45b094aaa2ef16a9cdd38cd7e6837\n",
      "  Stored in directory: /tmp/pip-ephem-wheel-cache-bm2ar248/wheels/ec/fb/a8/7a14fc0b028718f8580b54469f67b32a765ff5a972994c2305\n",
      "Successfully built MSSForestDisturbances\n",
      "Installing collected packages: MSSForestDisturbances\n",
      "Successfully installed MSSForestDisturbances-0.0.0\n",
      "\u001b[33mWARNING: You are using pip version 21.3.1; however, version 22.0.3 is available.\n",
      "You should consider upgrading via the '/home/rylan/.envs/tf/bin/python -m pip install --upgrade pip' command.\u001b[0m\n",
      "/home/rylan/school/MSSForestDisturbances\n"
     ]
    }
   ],
   "source": [
    "# install and import my packages\n",
    "this_dir = os.getcwd()\n",
    "msslib_dir = '~/school/msslib/'\n",
    "sequencer_dir = '~/school/sequencer/'\n",
    "mfd_dir = '~/school/MSSForestDisturbances/'\n",
    "\n",
    "packages = [msslib_dir, sequencer_dir, mfd_dir]\n",
    "\n",
    "for package in packages:\n",
    "    %cd {package}\n",
    "    ! pip install .\n",
    "    \n",
    "%cd {this_dir}\n",
    "    \n",
    "from msslib import msslib\n",
    "import sequencer\n",
    "import mfd"
   ]
  },
  {
   "cell_type": "markdown",
   "metadata": {
    "id": "Pu4SUHMCy7F0"
   },
   "source": [
    "# Test"
   ]
  },
  {
   "cell_type": "code",
   "execution_count": 11,
   "metadata": {
    "id": "GvE3_zuU3X8F"
   },
   "outputs": [],
   "source": [
    "def get_valid_burns(events):\n",
    "    years = events.distinct(\"year\").aggregate_array(\"year\")\n",
    "\n",
    "    def _valid(year):\n",
    "        curr_events = events.filter(ee.Filter.eq(\"year\", year))\n",
    "        exclusively_burnt = curr_events.reduce(ee.Reducer.allNonZero())\n",
    "        burnt_often = curr_events.reduce(ee.Reducer.sum()).gt(1)\n",
    "        return exclusively_burnt.Or(burnt_often).selfMask()\n",
    "\n",
    "    result = ee.ImageCollection.fromImages(years.map(_valid))\n",
    "    return result.reduce(ee.Reducer.anyNonZero())\n",
    "\n",
    "def postprocess(event):\n",
    "    event = mfd.postprocess.postprocess(event)\n",
    "    event = mfd.postprocess.squash_extra_classes(event)\n",
    "    event = mfd.postprocess.set_true_date(event)\n",
    "    return event"
   ]
  },
  {
   "cell_type": "code",
   "execution_count": 12,
   "metadata": {
    "id": "swd_qqeSzDPo"
   },
   "outputs": [],
   "source": [
    "grid_split_qc = ee.FeatureCollection('users/boothmanrylan/gridSplitForestedQC')\n",
    "\n",
    "grid_cell = grid_split_qc.filter(ee.Filter.eq(\"id\", 48)).first().geometry()\n"
   ]
  },
  {
   "cell_type": "code",
   "execution_count": 13,
   "metadata": {
    "id": "3H8k9gWa5o_c"
   },
   "outputs": [],
   "source": [
    "quebec_fires = ee.ImageCollection(\"users/boothmanrylan/MSSForestDisturbances/test2\")\n",
    "\n",
    "events = mfd.postprocess.filter_and_clip(quebec_fires, grid_cell)\n",
    "\n",
    "processed_events = events.map(postprocess)\n",
    "\n",
    "events_carried_forward = mfd.postprocess.carry_observations_forward(processed_events)\n",
    "burns = sequencer.match_sequence(events_carried_forward, ee.List([1, 1, 1]))\n",
    "\n",
    "permanent_burns = mfd.postprocess.get_burn_year_spread(processed_events).gt(5)\n",
    "\n",
    "valid_burns = get_valid_burns(processed_events).And(permanent_burns.Not())\n",
    "all_burns = processed_events.reduce(ee.Reducer.anyNonZero())"
   ]
  },
  {
   "cell_type": "code",
   "execution_count": 14,
   "metadata": {
    "id": "6HWUPXN_5aaM"
   },
   "outputs": [
    {
     "data": {
      "application/vnd.jupyter.widget-view+json": {
       "model_id": "ea1b5ab0e9174a1ca5f4f0787117380c",
       "version_major": 2,
       "version_minor": 0
      },
      "text/plain": [
       "Map(center=[51.66505765621107, -78.15572978972988], controls=(WidgetControl(options=['position', 'transparent_…"
      ]
     },
     "metadata": {},
     "output_type": "display_data"
    }
   ],
   "source": [
    "binary_vis = {'min': 0, 'max': 1}\n",
    "\n",
    "Map = geemap.Map()\n",
    "Map.addLayer(grid_split_qc, {}, 'Grid Split QC')\n",
    "Map.addLayer(grid_cell, {}, 'Grid Cell of Interest')\n",
    "Map.addLayer(valid_burns, binary_vis, 'Valid Burns')\n",
    "Map.addLayer(all_burns, binary_vis, 'All Burns')\n",
    "Map.addLayer(burns, binary_vis, \"Burns\")\n",
    "Map.centerObject(grid_cell, 10)\n",
    "\n",
    "Map"
   ]
  }
 ],
 "metadata": {
  "colab": {
   "authorship_tag": "ABX9TyP8qmh1JbObSSINhB2I1mhr",
   "include_colab_link": true,
   "name": "main.ipynb",
   "private_outputs": true,
   "provenance": [],
   "toc_visible": true
  },
  "kernelspec": {
   "display_name": "Python 3 (ipykernel)",
   "language": "python",
   "name": "python3"
  },
  "language_info": {
   "codemirror_mode": {
    "name": "ipython",
    "version": 3
   },
   "file_extension": ".py",
   "mimetype": "text/x-python",
   "name": "python",
   "nbconvert_exporter": "python",
   "pygments_lexer": "ipython3",
   "version": "3.8.10"
  }
 },
 "nbformat": 4,
 "nbformat_minor": 4
}
